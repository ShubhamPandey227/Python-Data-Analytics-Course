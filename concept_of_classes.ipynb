{
 "cells": [
  {
   "cell_type": "code",
   "execution_count": 1,
   "metadata": {},
   "outputs": [],
   "source": [
    "names = ['John','Paul','George','Ringo']"
   ]
  },
  {
   "cell_type": "code",
   "execution_count": 5,
   "metadata": {},
   "outputs": [],
   "source": [
    "students =[ \n",
    "    {'name': 'John', 'age': 25, 'grade': 88},\n",
    "    {'name': 'Paul','age': 22, 'grade': 92},\n",
    "    {'name': 'George','age': 21, 'grade': 95,},\n",
    "    {'name': 'Ringo','age': 23, 'grade': 90}\n",
    "]"
   ]
  },
  {
   "cell_type": "code",
   "execution_count": 6,
   "metadata": {},
   "outputs": [
    {
     "data": {
      "text/plain": [
       "[{'name': 'John', 'age': 25, 'grade': 88},\n",
       " {'name': 'Paul', 'age': 22, 'grade': 92},\n",
       " {'name': 'George', 'age': 21, 'grade': 95},\n",
       " {'name': 'Ringo', 'age': 23, 'grade': 90}]"
      ]
     },
     "execution_count": 6,
     "metadata": {},
     "output_type": "execute_result"
    }
   ],
   "source": [
    "students"
   ]
  },
  {
   "cell_type": "code",
   "execution_count": 7,
   "metadata": {},
   "outputs": [
    {
     "data": {
      "text/plain": [
       "{'name': 'John', 'age': 25, 'grade': 88}"
      ]
     },
     "execution_count": 7,
     "metadata": {},
     "output_type": "execute_result"
    }
   ],
   "source": [
    "students[0]"
   ]
  },
  {
   "attachments": {},
   "cell_type": "markdown",
   "metadata": {},
   "source": [
    "Object Oriented Principles\n",
    "- Encapsulation\n",
    "- Abstraction\n",
    "- Inheritance"
   ]
  },
  {
   "cell_type": "code",
   "execution_count": 12,
   "metadata": {},
   "outputs": [],
   "source": [
    "class Student:\n",
    "    def __init__(self, name, age, grade): #initialize dunder method\n",
    "        self.name = name\n",
    "        self.age = age\n",
    "        self.grade = grade\n",
    "    def __repr__(self): # represent dunder method\n",
    "        return self.name"
   ]
  },
  {
   "cell_type": "code",
   "execution_count": 4,
   "metadata": {},
   "outputs": [],
   "source": [
    "students = [\n",
    "    Student('John', 25, 88), #object creation--passing parameters to the given fucntion above\n",
    "    Student('Paul', 22, 92),\n",
    "    Student('George', 21, 85),\n",
    "    Student('Ringo', 24, 90)\n",
    "]"
   ]
  },
  {
   "cell_type": "code",
   "execution_count": 16,
   "metadata": {},
   "outputs": [
    {
     "data": {
      "text/plain": [
       "Paul"
      ]
     },
     "execution_count": 16,
     "metadata": {},
     "output_type": "execute_result"
    }
   ],
   "source": [
    "students[1]"
   ]
  },
  {
   "cell_type": "code",
   "execution_count": 25,
   "metadata": {},
   "outputs": [],
   "source": [
    "class Mobile:\n",
    "    def __init__(self, nm, brand, price, ram, camera) :\n",
    "        self.name = nm\n",
    "        self.brand = brand\n",
    "        self.price = price\n",
    "        self.ram = ram\n",
    "        self.camera = camera\n",
    "    def __repr__(self) :\n",
    "        return self.name\n",
    "    def info(self):\n",
    "        print(f'Name: {self.name}')\n",
    "        print(f'Brand: {self.brand}')\n",
    "        print(f'Price: {self.price}')\n",
    "        print(f'Ram: {self.ram}')\n",
    "        print(f'Camera: {self.camera}')"
   ]
  },
  {
   "cell_type": "code",
   "execution_count": 26,
   "metadata": {},
   "outputs": [
    {
     "name": "stdout",
     "output_type": "stream",
     "text": [
      "[Redmi Note 9 pro, Zenfone 5z, Galaxy S22]\n"
     ]
    }
   ],
   "source": [
    "m1 = Mobile('Redmi Note 9 pro', 'Xiaomi', 12999, '6Gb', '16MP')\n",
    "m2 = Mobile('Zenfone 5z', 'Asus', 27999, '6Gb', '12MP')\n",
    "m3 = Mobile('Galaxy S22', 'Samsung', 58999, '8Gb', '48MP')\n",
    "mobiles =[m1, m2, m3]\n",
    "print(mobiles)"
   ]
  },
  {
   "cell_type": "code",
   "execution_count": 28,
   "metadata": {},
   "outputs": [
    {
     "name": "stdout",
     "output_type": "stream",
     "text": [
      "Redmi Note 9 pro\n",
      "Zenfone 5z\n",
      "Galaxy S22\n"
     ]
    }
   ],
   "source": [
    "for item in mobiles:\n",
    "    print(item)"
   ]
  },
  {
   "cell_type": "code",
   "execution_count": 29,
   "metadata": {},
   "outputs": [
    {
     "name": "stdout",
     "output_type": "stream",
     "text": [
      "Redmi Note 9 pro Xiaomi\n",
      "Zenfone 5z Asus\n",
      "Galaxy S22 Samsung\n"
     ]
    }
   ],
   "source": [
    "for item in mobiles:\n",
    "    print(item.name, item.brand)"
   ]
  },
  {
   "cell_type": "code",
   "execution_count": 33,
   "metadata": {},
   "outputs": [
    {
     "name": "stdout",
     "output_type": "stream",
     "text": [
      "Name: Redmi Note 9 pro\n",
      "Brand: Xiaomi\n",
      "Price: 12999\n",
      "Ram: 6Gb\n",
      "Camera: 16MP\n",
      "Name: Zenfone 5z\n",
      "Brand: Asus\n",
      "Price: 27999\n",
      "Ram: 6Gb\n",
      "Camera: 12MP\n",
      "Name: Galaxy S22\n",
      "Brand: Samsung\n",
      "Price: 58999\n",
      "Ram: 8Gb\n",
      "Camera: 48MP\n"
     ]
    }
   ],
   "source": [
    "for item in mobiles:\n",
    "    item.info()"
   ]
  },
  {
   "cell_type": "code",
   "execution_count": null,
   "metadata": {},
   "outputs": [],
   "source": []
  }
 ],
 "metadata": {
  "kernelspec": {
   "display_name": "Python 3",
   "language": "python",
   "name": "python3"
  },
  "language_info": {
   "codemirror_mode": {
    "name": "ipython",
    "version": 3
   },
   "file_extension": ".py",
   "mimetype": "text/x-python",
   "name": "python",
   "nbconvert_exporter": "python",
   "pygments_lexer": "ipython3",
   "version": "3.11.1"
  },
  "orig_nbformat": 4,
  "vscode": {
   "interpreter": {
    "hash": "ebfc0a8d552866b0d59eba665220a57de3bc06f3ac643b8bef38dd8f66781fdd"
   }
  }
 },
 "nbformat": 4,
 "nbformat_minor": 2
}

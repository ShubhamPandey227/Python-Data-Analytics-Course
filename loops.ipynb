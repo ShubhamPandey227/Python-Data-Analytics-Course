{
 "cells": [
  {
   "attachments": {},
   "cell_type": "markdown",
   "metadata": {},
   "source": [
    "# LOOPS\n",
    "for , while\n",
    "example --- for i(iterative variable) in variable_name"
   ]
  },
  {
   "cell_type": "code",
   "execution_count": 1,
   "metadata": {},
   "outputs": [
    {
     "name": "stdout",
     "output_type": "stream",
     "text": [
      "t\n",
      "h\n",
      "e\n",
      " \n",
      "w\n",
      "a\n",
      "y\n",
      " \n",
      "o\n",
      "f\n",
      " \n",
      "t\n",
      "h\n",
      "e\n",
      " \n",
      "k\n",
      "i\n",
      "n\n",
      "g\n",
      "s\n"
     ]
    }
   ],
   "source": [
    "name = \"the way of the kings\"\n",
    "for char in name :\n",
    "    print (char)"
   ]
  },
  {
   "cell_type": "code",
   "execution_count": 3,
   "metadata": {},
   "outputs": [
    {
     "name": "stdout",
     "output_type": "stream",
     "text": [
      "S\n",
      "h\n",
      "a\n",
      "k\n",
      "e\n",
      "s\n",
      "p\n",
      "e\n",
      "a\n",
      "r\n",
      "e\n"
     ]
    }
   ],
   "source": [
    "name = \"Shakespeare\"\n",
    "for char in name :\n",
    "    print (char)"
   ]
  },
  {
   "cell_type": "code",
   "execution_count": 4,
   "metadata": {},
   "outputs": [
    {
     "name": "stdout",
     "output_type": "stream",
     "text": [
      "1\n",
      "3\n",
      "15\n",
      "10\n",
      "12\n"
     ]
    }
   ],
   "source": [
    "x = [1, 3, 15, 10, 12]\n",
    "for item in x :\n",
    "    print (item)"
   ]
  },
  {
   "cell_type": "code",
   "execution_count": 5,
   "metadata": {},
   "outputs": [],
   "source": [
    "# 10 movies \n",
    "movies = ['Interstellar', 'Pain & Gain', 'Harry potter', 'Shrek', 'Shershah', 'dhamaal', 'Ant-Man', 'Avengers','Superman', 'Batman'] \n"
   ]
  },
  {
   "cell_type": "code",
   "execution_count": 6,
   "metadata": {},
   "outputs": [
    {
     "name": "stdout",
     "output_type": "stream",
     "text": [
      "Interstellar | 12\n",
      "Pain & Gain | 11\n",
      "Harry potter | 12\n",
      "Shrek | 5\n",
      "Shershah | 8\n",
      "dhamaal | 7\n",
      "Ant-Man | 7\n",
      "Avengers | 8\n",
      "Superman | 8\n",
      "Batman | 6\n"
     ]
    }
   ],
   "source": [
    "# for every movie in movies\n",
    "for movie in movies :\n",
    "    print (f'{movie} | {len(movie)}' )"
   ]
  },
  {
   "attachments": {},
   "cell_type": "markdown",
   "metadata": {},
   "source": [
    "# Special Iterables used in Loops---- \n",
    "- range() , enumerate(), zip() \n",
    "- Range function generates sequence in memory using start & end values.\n",
    "- Start Value is included \n",
    "- end value is excluded"
   ]
  },
  {
   "cell_type": "code",
   "execution_count": 9,
   "metadata": {},
   "outputs": [
    {
     "name": "stdout",
     "output_type": "stream",
     "text": [
      "don't code\n",
      "don't code\n",
      "don't code\n",
      "don't code\n",
      "don't code\n",
      "don't code\n",
      "don't code\n",
      "don't code\n",
      "don't code\n"
     ]
    }
   ],
   "source": [
    "for i in range(1,10) :\n",
    "    print (\"don't code\")"
   ]
  },
  {
   "cell_type": "code",
   "execution_count": null,
   "metadata": {},
   "outputs": [],
   "source": []
  },
  {
   "cell_type": "code",
   "execution_count": null,
   "metadata": {},
   "outputs": [],
   "source": [
    "# if one value is passed in range() , then that is the end value\n",
    "for x in range(1000):\n",
    "    print (x, end='  ') #end is a setting for print fucntion\n",
    "    # by default print changes line,  but here we are putting spaces"
   ]
  },
  {
   "cell_type": "code",
   "execution_count": 12,
   "metadata": {},
   "outputs": [
    {
     "name": "stdout",
     "output_type": "stream",
     "text": [
      "1  6  11  16  21  26  31  36  41  46  51  56  61  66  71  76  81  86  91  96  "
     ]
    }
   ],
   "source": [
    "# range() can also take 3 values, first is start value, second is end value\n",
    "# last is the gap between each step\n",
    "for i in range(1, 100, 5) :\n",
    "    print (i, end='  ')"
   ]
  },
  {
   "cell_type": "code",
   "execution_count": 19,
   "metadata": {},
   "outputs": [
    {
     "name": "stdout",
     "output_type": "stream",
     "text": [
      "1 3 5 7 9 11 13 15 17 19 21 23 25 27 29 31 33 35 37 39 41 43 45 47 49 51 53 55 57 59 61 63 65 67 69 71 73 75 77 79 81 83 85 87 89 91 93 95 97 99 "
     ]
    }
   ],
   "source": [
    "#program to print odd numbers without jump/gap value in range function\n",
    "for i in range (1,101) :\n",
    "    if i % 2!=0:\n",
    "        print (i, end=\" \")"
   ]
  },
  {
   "cell_type": "code",
   "execution_count": 23,
   "metadata": {},
   "outputs": [
    {
     "name": "stdout",
     "output_type": "stream",
     "text": [
      "1  3  5  7  9  11  13  15  17  19  21  23  25  27  29  31  33  35  37  39  41  43  45  47  49  51  53  55  57  59  61  63  65  67  69  71  73  75  77  79  81  83  85  87  89  91  93  95  97  99  "
     ]
    }
   ],
   "source": [
    "# program to print odd num using jump/gap value in range function\n",
    "for i in range (1,101,2):\n",
    "    print (i, end=\"  \")"
   ]
  },
  {
   "cell_type": "code",
   "execution_count": null,
   "metadata": {},
   "outputs": [],
   "source": []
  }
 ],
 "metadata": {
  "kernelspec": {
   "display_name": "Python 3",
   "language": "python",
   "name": "python3"
  },
  "language_info": {
   "codemirror_mode": {
    "name": "ipython",
    "version": 3
   },
   "file_extension": ".py",
   "mimetype": "text/x-python",
   "name": "python",
   "nbconvert_exporter": "python",
   "pygments_lexer": "ipython3",
   "version": "3.11.1"
  },
  "orig_nbformat": 4,
  "vscode": {
   "interpreter": {
    "hash": "ebfc0a8d552866b0d59eba665220a57de3bc06f3ac643b8bef38dd8f66781fdd"
   }
  }
 },
 "nbformat": 4,
 "nbformat_minor": 2
}

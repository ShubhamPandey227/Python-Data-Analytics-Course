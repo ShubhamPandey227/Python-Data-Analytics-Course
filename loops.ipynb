{
 "cells": [
  {
   "attachments": {},
   "cell_type": "markdown",
   "metadata": {},
   "source": [
    "# LOOPS\n",
    "for , while\n",
    "example --- for i(iterative variable) in variable_name"
   ]
  },
  {
   "cell_type": "code",
   "execution_count": 1,
   "metadata": {},
   "outputs": [
    {
     "name": "stdout",
     "output_type": "stream",
     "text": [
      "t\n",
      "h\n",
      "e\n",
      " \n",
      "w\n",
      "a\n",
      "y\n",
      " \n",
      "o\n",
      "f\n",
      " \n",
      "t\n",
      "h\n",
      "e\n",
      " \n",
      "k\n",
      "i\n",
      "n\n",
      "g\n",
      "s\n"
     ]
    }
   ],
   "source": [
    "name = \"the way of the kings\"\n",
    "for char in name :\n",
    "    print (char)"
   ]
  },
  {
   "cell_type": "code",
   "execution_count": 3,
   "metadata": {},
   "outputs": [
    {
     "name": "stdout",
     "output_type": "stream",
     "text": [
      "S\n",
      "h\n",
      "a\n",
      "k\n",
      "e\n",
      "s\n",
      "p\n",
      "e\n",
      "a\n",
      "r\n",
      "e\n"
     ]
    }
   ],
   "source": [
    "name = \"Shakespeare\"\n",
    "for char in name :\n",
    "    print (char)"
   ]
  },
  {
   "cell_type": "code",
   "execution_count": null,
   "metadata": {},
   "outputs": [],
   "source": [
    "x = [1, 3, 15, 10, 12]\n",
    "for item in x :\n",
    "    print (item)"
   ]
  },
  {
   "cell_type": "code",
   "execution_count": 5,
   "metadata": {},
   "outputs": [],
   "source": [
    "# 10 movies \n",
    "movies = ['Interstellar', 'Pain & Gain', 'Harry potter', 'Shrek', 'Shershah', 'dhamaal', 'Ant-Man', 'Avengers','Superman', 'Batman'] \n"
   ]
  },
  {
   "cell_type": "code",
   "execution_count": null,
   "metadata": {},
   "outputs": [],
   "source": [
    "# for every movie in movies\n",
    "for movie in movies :\n",
    "    print (f'{movie} | {len(movie)}' )"
   ]
  },
  {
   "attachments": {},
   "cell_type": "markdown",
   "metadata": {},
   "source": [
    "# Special Iterables used in Loops---- \n",
    "- range()-for iterating between specified values , enumerate()-- provides index of elements, zip() \n",
    "- Range function generates sequence in memory using start & end values.\n",
    "- Start Value is included \n",
    "- end value is excluded\n",
    "- break and continue statements\n",
    "- for else loop"
   ]
  },
  {
   "cell_type": "code",
   "execution_count": null,
   "metadata": {},
   "outputs": [],
   "source": [
    "for i in range(1,10) :\n",
    "    print (\"don't code\")"
   ]
  },
  {
   "cell_type": "code",
   "execution_count": null,
   "metadata": {},
   "outputs": [],
   "source": []
  },
  {
   "cell_type": "code",
   "execution_count": null,
   "metadata": {},
   "outputs": [],
   "source": [
    "# if one value is passed in range() , then that is the end value\n",
    "for x in range(1000):\n",
    "    print (x, end='  ') #end is a setting for print fucntion\n",
    "    # by default print changes line,  but here we are putting spaces"
   ]
  },
  {
   "cell_type": "code",
   "execution_count": null,
   "metadata": {},
   "outputs": [],
   "source": [
    "# range() can also take 3 values, first is start value, second is end value\n",
    "# last is the gap between each step\n",
    "for i in range(1, 100, 5) :\n",
    "    print (i, end='  ')"
   ]
  },
  {
   "cell_type": "code",
   "execution_count": null,
   "metadata": {},
   "outputs": [],
   "source": [
    "#program to print odd numbers without jump/gap value in range function\n",
    "for i in range (1,101) :\n",
    "    if i % 2!=0:\n",
    "        print (i, end=\" \")"
   ]
  },
  {
   "cell_type": "code",
   "execution_count": null,
   "metadata": {},
   "outputs": [],
   "source": [
    "# program to print odd num using jump/gap value in range function\n",
    "for i in range (1,101,2):\n",
    "    print (i, end=\"  \")"
   ]
  },
  {
   "cell_type": "code",
   "execution_count": null,
   "metadata": {},
   "outputs": [],
   "source": [
    "for i in range(10, 0, -1) :\n",
    "    print(i)"
   ]
  },
  {
   "cell_type": "code",
   "execution_count": null,
   "metadata": {},
   "outputs": [],
   "source": [
    "data = [45, 23 ,42 ,4 ,10, 11, 59]\n",
    "for item in enumerate(data) :\n",
    "    print (item)"
   ]
  },
  {
   "cell_type": "code",
   "execution_count": null,
   "metadata": {},
   "outputs": [],
   "source": [
    "for i, v in enumerate(data) :\n",
    "    print (i,v)"
   ]
  },
  {
   "cell_type": "code",
   "execution_count": 36,
   "metadata": {},
   "outputs": [
    {
     "name": "stdout",
     "output_type": "stream",
     "text": [
      "total app : 68\n"
     ]
    }
   ],
   "source": [
    "apps = ['wps office', 'ola','sonyliv', 'simpl', 'colornote','spotify','bad piggies', 'zoom','duo mobile', 'whatsapp','dr.fone', 'zomato','swiggy','steam','amazon','gallery',\n",
    "'discovery+','dominos','ajio','instagram','accubattery', 'decathalon','meet','la pinoz','burger king','pharmeasy','chrome', 'reddit','jiocinema','netflix',\n",
    "'voot', 'hotstar', 'twitch', 'twitter', 'rapido', 'authy','zee5','act fibernet','amazon alexa','facebook','myntra','prime video','flipkart','discord', 'myjio',\n",
    "'ottplay','phonepe','quora','smytten','tata play binge','the souled store','uber','unimote','uts','youtube','zepp','utorrent','calculator','calendar','camera','cmascanner','chikii','classroom','color bump','drive','aethersx2','yt studio','tata 1mg']\n",
    "print (f'total app : {len(apps)}')"
   ]
  },
  {
   "cell_type": "code",
   "execution_count": 37,
   "metadata": {},
   "outputs": [],
   "source": [
    "x = [1,2,3,4,5]\n",
    "y = [10,12,13,25,46]"
   ]
  },
  {
   "cell_type": "code",
   "execution_count": null,
   "metadata": {},
   "outputs": [],
   "source": [
    "#not pythonic\n",
    "for i in range(len(x)) :\n",
    "    out = x[i] + y[i]\n",
    "    print (out)"
   ]
  },
  {
   "cell_type": "code",
   "execution_count": null,
   "metadata": {},
   "outputs": [],
   "source": [
    "#Pythonic\n",
    "for i,j in zip(x,y) :\n",
    "    out = i + j\n",
    "    print (out)"
   ]
  },
  {
   "cell_type": "code",
   "execution_count": null,
   "metadata": {},
   "outputs": [],
   "source": [
    "#zip() example-used for iterating over multiple iterables having mutliple values\n",
    "x = [2,1,5,2,2,5,6,3,3,9,10]\n",
    "y = [2,1,5,2,5,5,9,3]\n",
    "z = [2,5,1,3,5,2,1,5]\n",
    "for i,j,k in zip(x,y,z) :\n",
    "    r = i*j*k #some equation\n",
    "    print(r)"
   ]
  },
  {
   "cell_type": "code",
   "execution_count": 42,
   "metadata": {},
   "outputs": [
    {
     "name": "stdout",
     "output_type": "stream",
     "text": [
      "0 wps office\n",
      "1 ola\n",
      "2 sonyliv\n",
      "3 simpl\n",
      "4 colornote\n",
      "5 spotify\n",
      "6 bad piggies\n",
      "7 zoom\n",
      "8 duo mobile\n",
      "9 whatsapp\n"
     ]
    }
   ],
   "source": [
    "for i, app in enumerate(apps) :\n",
    "    if i > 9:\n",
    "        break\n",
    "    print(i,app)\n"
   ]
  },
  {
   "cell_type": "code",
   "execution_count": null,
   "metadata": {},
   "outputs": [],
   "source": [
    "for app in apps :\n",
    "    if app == 'chrome' :\n",
    "        break\n",
    "    print(app)"
   ]
  },
  {
   "cell_type": "code",
   "execution_count": null,
   "metadata": {},
   "outputs": [],
   "source": [
    "# if any app contain 'z' in name then stop\n",
    "for app in apps :\n",
    "    if 'z' in app :\n",
    "        print(f'z found in {app}')\n",
    "        break"
   ]
  },
  {
   "cell_type": "code",
   "execution_count": 49,
   "metadata": {},
   "outputs": [
    {
     "name": "stdout",
     "output_type": "stream",
     "text": [
      "d found in bad piggies\n",
      "d found in duo mobile\n",
      "d found in dr.fone\n",
      "d found in discovery+\n"
     ]
    }
   ],
   "source": [
    "c = 0\n",
    "for app in apps :\n",
    "    if 'd' in app :\n",
    "        print(f'd found in {app}')\n",
    "        c +=1\n",
    "    if c == 4 :\n",
    "        break\n",
    "        print(app)"
   ]
  },
  {
   "cell_type": "code",
   "execution_count": null,
   "metadata": {},
   "outputs": [],
   "source": []
  }
 ],
 "metadata": {
  "kernelspec": {
   "display_name": "Python 3",
   "language": "python",
   "name": "python3"
  },
  "language_info": {
   "codemirror_mode": {
    "name": "ipython",
    "version": 3
   },
   "file_extension": ".py",
   "mimetype": "text/x-python",
   "name": "python",
   "nbconvert_exporter": "python",
   "pygments_lexer": "ipython3",
   "version": "3.11.1"
  },
  "orig_nbformat": 4,
  "vscode": {
   "interpreter": {
    "hash": "ebfc0a8d552866b0d59eba665220a57de3bc06f3ac643b8bef38dd8f66781fdd"
   }
  }
 },
 "nbformat": 4,
 "nbformat_minor": 2
}

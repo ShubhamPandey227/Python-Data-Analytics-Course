{
 "cells": [
  {
   "cell_type": "code",
   "execution_count": 1,
   "metadata": {},
   "outputs": [
    {
     "name": "stdout",
     "output_type": "stream",
     "text": [
      "{'name': 'John Cena', 'class': '10th', 'rollno': 21, 'marks': 90}\n"
     ]
    }
   ],
   "source": [
    "#Dict example\n",
    "student = { 'name' : 'John Cena',\n",
    "'class': '10th',\n",
    "'rollno': 21,\n",
    "'marks': 90 }\n",
    "print(student)"
   ]
  },
  {
   "cell_type": "code",
   "execution_count": 3,
   "metadata": {},
   "outputs": [
    {
     "name": "stdout",
     "output_type": "stream",
     "text": [
      "John Cena\n",
      "21\n"
     ]
    }
   ],
   "source": [
    "print(student['name'])\n",
    "print(student['rollno'])"
   ]
  },
  {
   "cell_type": "code",
   "execution_count": 5,
   "metadata": {},
   "outputs": [
    {
     "name": "stdout",
     "output_type": "stream",
     "text": [
      "John Cena\n",
      "10th\n",
      "None\n"
     ]
    }
   ],
   "source": [
    "#to get no errors if no key-value pair exists\n",
    "print(student.get('name'))\n",
    "print(student.get('class'))\n",
    "print(student.get('english'))"
   ]
  },
  {
   "cell_type": "code",
   "execution_count": 6,
   "metadata": {},
   "outputs": [
    {
     "name": "stdout",
     "output_type": "stream",
     "text": [
      "{'name': 'John Cena', 'class': '10th', 'rollno': 21, 'marks': 90, 'school': 'CMS', 'father': 'Unknown'}\n"
     ]
    }
   ],
   "source": [
    "# add a new entry\n",
    "student['school'] = 'CMS'\n",
    "student['father'] = 'Unknown'\n",
    "print(student)"
   ]
  },
  {
   "cell_type": "code",
   "execution_count": 7,
   "metadata": {},
   "outputs": [
    {
     "name": "stdout",
     "output_type": "stream",
     "text": [
      "{'name': 'John Cena', 'class': '3rd class', 'rollno': 21, 'marks': 90, 'school': 'CMS', 'father': 'Unknown'}\n"
     ]
    }
   ],
   "source": [
    "# update an entry\n",
    "student ['class'] = '3rd class'\n",
    "print(student)"
   ]
  },
  {
   "cell_type": "code",
   "execution_count": 1,
   "metadata": {},
   "outputs": [
    {
     "name": "stdout",
     "output_type": "stream",
     "text": [
      "{'GameOfThrones': ['Cast---->Jon Snow-The Main Protagonist', 'Kit Harrington', 'Emilia Clarke', 'Rating--> 9.2'], 'Modern Family': ['Luke- the star', 'Richard Gibson', 'Phil Dunphy', 'Rating-->8.5'], 'Physical 100': ['Bodybuilders ka fav show---cast----->', 'Yung-sun bin', 'Jyeong-Ho', 'Rating-->7.7'], 'Simpsons': ['great dank humour', \"Cartoon that isn't made for kids\", 'Various controversies', 'Rating-->8.7'], 'Vikings': ['To Valhalla We Go', 'Ragnar Lothbrok-The True Leader', \"Several Viking jaise alpha males jinke naam i don't know\", 'Rating-->8.5']}\n"
     ]
    }
   ],
   "source": [
    "shows = {'GameOfThrones' : ['Cast---->Jon Snow-The Main Protagonist', 'Kit Harrington','Emilia Clarke','Rating--> 9.2'],\n",
    "'Modern Family' : ['Luke- the star', 'Richard Gibson','Phil Dunphy','Rating-->8.5'],\n",
    "'Physical 100' : ['Bodybuilders ka fav show---cast----->','Yung-sun bin','Jyeong-Ho','Rating-->7.7'],\n",
    "'Simpsons': ['great dank humour',\"Cartoon that isn't made for kids\",'Various controversies','Rating-->8.7'],\n",
    "'Vikings' : ['To Valhalla We Go','Ragnar Lothbrok-The True Leader',\"Several Viking jaise alpha males jinke naam i don't know\",'Rating-->8.5']}\n",
    "print(shows)"
   ]
  },
  {
   "cell_type": "code",
   "execution_count": 26,
   "metadata": {},
   "outputs": [
    {
     "name": "stdout",
     "output_type": "stream",
     "text": [
      "GameOfThrones\n",
      "Modern Family\n",
      "Physical 100\n",
      "Simpsons\n",
      "Vikings\n"
     ]
    }
   ],
   "source": [
    "for key in shows :\n",
    "    print(key)"
   ]
  },
  {
   "cell_type": "code",
   "execution_count": null,
   "metadata": {},
   "outputs": [],
   "source": [
    "for key in shows :\n",
    "    print(key, shows[key])"
   ]
  },
  {
   "cell_type": "code",
   "execution_count": 4,
   "metadata": {},
   "outputs": [
    {
     "name": "stdout",
     "output_type": "stream",
     "text": [
      "GameOfThrones ['Cast---->Jon Snow-The Main Protagonist', 'Kit Harrington', 'Emilia Clarke', 'Rating--> 9.2']\n",
      "Modern Family ['Luke- the star', 'Richard Gibson', 'Phil Dunphy', 'Rating-->8.5']\n",
      "Physical 100 ['Bodybuilders ka fav show---cast----->', 'Yung-sun bin', 'Jyeong-Ho', 'Rating-->7.7']\n",
      "Simpsons ['great dank humour', \"Cartoon that isn't made for kids\", 'Various controversies', 'Rating-->8.7']\n",
      "Vikings ['To Valhalla We Go', 'Ragnar Lothbrok-The True Leader', \"Several Viking jaise alpha males jinke naam i don't know\", 'Rating-->8.5']\n"
     ]
    }
   ],
   "source": [
    "for k,v in shows.items() :\n",
    "    print(k,v)"
   ]
  },
  {
   "cell_type": "code",
   "execution_count": 29,
   "metadata": {},
   "outputs": [
    {
     "name": "stdout",
     "output_type": "stream",
     "text": [
      "['Cast---->Jon Snow-The Main Protagonist', 'Kit Harrington', 'Emilia Clarke', 'Rating--> 9.2']\n",
      "['Luke- the star', 'Richard Gibson', 'Phil Dunphy', 'Rating-->8.5']\n",
      "['Bodybuilders ka fav show---cast----->', 'Yung-sun bin', 'Jyeong-Ho', 'Rating-->7.7']\n",
      "['great dank humour', \"Cartoon that isn't made for kids\", 'Various controversies', 'Rating-->8.7']\n",
      "['To Valhalla We Go', 'Ragnar Lothbrok-The True Leader', \"Several Viking jaise apha males jinke naam i don't know\", 'Rating-->8.5']\n"
     ]
    }
   ],
   "source": [
    "for v in shows.values() :\n",
    "    print(v)"
   ]
  },
  {
   "cell_type": "code",
   "execution_count": 31,
   "metadata": {},
   "outputs": [],
   "source": [
    "# To Remove something from the dictionary\n",
    "shows.pop()\n"
   ]
  },
  {
   "cell_type": "code",
   "execution_count": null,
   "metadata": {},
   "outputs": [],
   "source": []
  }
 ],
 "metadata": {
  "kernelspec": {
   "display_name": "Python 3",
   "language": "python",
   "name": "python3"
  },
  "language_info": {
   "codemirror_mode": {
    "name": "ipython",
    "version": 3
   },
   "file_extension": ".py",
   "mimetype": "text/x-python",
   "name": "python",
   "nbconvert_exporter": "python",
   "pygments_lexer": "ipython3",
   "version": "3.11.1 (tags/v3.11.1:a7a450f, Dec  6 2022, 19:58:39) [MSC v.1934 64 bit (AMD64)]"
  },
  "orig_nbformat": 4,
  "vscode": {
   "interpreter": {
    "hash": "ebfc0a8d552866b0d59eba665220a57de3bc06f3ac643b8bef38dd8f66781fdd"
   }
  }
 },
 "nbformat": 4,
 "nbformat_minor": 2
}

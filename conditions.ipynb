{
 "cells": [
  {
   "attachments": {},
   "cell_type": "markdown",
   "metadata": {},
   "source": [
    "# conditions\n",
    "if \n",
    ", if else\n",
    ", nested if\n",
    ", if elif else\n",
    ", match"
   ]
  },
  {
   "cell_type": "code",
   "execution_count": 2,
   "metadata": {},
   "outputs": [
    {
     "name": "stdout",
     "output_type": "stream",
     "text": [
      "You're going to run this part\n",
      "count is even\n"
     ]
    }
   ],
   "source": [
    "count = int(input(\"Enter a value :\"))\n",
    "if count > 5 :\n",
    "    print(\"You're going to run this part\")\n",
    "\n",
    "if count > 15 :\n",
    "    print(\"You're going to see the 2nd if block execution\")\n",
    "\n",
    "if count % 2 == 0 :\n",
    "    print (\"count is even\")"
   ]
  },
  {
   "cell_type": "code",
   "execution_count": 5,
   "metadata": {},
   "outputs": [
    {
     "name": "stdout",
     "output_type": "stream",
     "text": [
      "c=13 is greater\n"
     ]
    }
   ],
   "source": [
    "#if elif else example\n",
    "a = 10\n",
    "b = 5\n",
    "c = 13\n",
    "if a > b and a > c :\n",
    "    print (f\"{a=} is greater\")\n",
    "elif b > a and b > c :\n",
    "    print (f\"{b=} is greater\")\n",
    "else :\n",
    "    print(f\"{c=} is greater\")"
   ]
  },
  {
   "cell_type": "code",
   "execution_count": 8,
   "metadata": {},
   "outputs": [
    {
     "name": "stdout",
     "output_type": "stream",
     "text": [
      "Invalid Username\n"
     ]
    }
   ],
   "source": [
    "username = input (\"Enter your name : \")\n",
    "email = input (\"Enter your email : \")\n",
    "pwd = input(\"Enter your password : \")\n",
    "pwd2 = input (\"Confirm your Password : \")\n",
    "\n",
    "if len(username) >=4 and len(username) <=15 :\n",
    "    if '@' in email and email.islower() and len(email) > 10 :\n",
    "        if len(pwd) >= 6 and pwd != username :\n",
    "            if pwd == pwd2 :\n",
    "                print(\"Successfully Registered\")\n",
    "            else :\n",
    "                print(\"Passwords don't match\")\n",
    "        else :\n",
    "            print(\"Invalid Password\")\n",
    "    else :\n",
    "        print(\"Invalid Email\")\n",
    "else :\n",
    "    print(\"Invalid Username\")"
   ]
  },
  {
   "cell_type": "code",
   "execution_count": null,
   "metadata": {},
   "outputs": [],
   "source": []
  }
 ],
 "metadata": {
  "kernelspec": {
   "display_name": "Python 3",
   "language": "python",
   "name": "python3"
  },
  "language_info": {
   "codemirror_mode": {
    "name": "ipython",
    "version": 3
   },
   "file_extension": ".py",
   "mimetype": "text/x-python",
   "name": "python",
   "nbconvert_exporter": "python",
   "pygments_lexer": "ipython3",
   "version": "3.11.1 (tags/v3.11.1:a7a450f, Dec  6 2022, 19:58:39) [MSC v.1934 64 bit (AMD64)]"
  },
  "orig_nbformat": 4,
  "vscode": {
   "interpreter": {
    "hash": "ebfc0a8d552866b0d59eba665220a57de3bc06f3ac643b8bef38dd8f66781fdd"
   }
  }
 },
 "nbformat": 4,
 "nbformat_minor": 2
}

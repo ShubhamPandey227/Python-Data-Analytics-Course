{
 "cells": [
  {
   "cell_type": "code",
   "execution_count": 9,
   "metadata": {},
   "outputs": [],
   "source": [
    "from dputils.scrape import Scraper, Tag"
   ]
  },
  {
   "cell_type": "code",
   "execution_count": 10,
   "metadata": {},
   "outputs": [
    {
     "data": {
      "text/plain": [
       "<title>Amazon.in : phones</title>"
      ]
     },
     "execution_count": 10,
     "metadata": {},
     "output_type": "execute_result"
    }
   ],
   "source": [
    "page = 1\n",
    "query = 'phones'\n",
    "webpage = Scraper(f'https://www.amazon.in/s?k={query}&page={page}')\n",
    "webpage.soup.title"
   ]
  },
  {
   "cell_type": "code",
   "execution_count": 11,
   "metadata": {},
   "outputs": [
    {
     "data": {
      "text/plain": [
       "[{'name': None, 'price': None},\n",
       " {'name': None, 'price': None},\n",
       " {'name': 'Samsung Galaxy M33 5G (Deep Ocean Blue, 8GB, 128GB Storage) | 6000mAh Battery | Upto 16GB RAM with RAM Plus | Travel Adapter to be Purchased Separately  ',\n",
       "  'price': '19,499'},\n",
       " {'name': 'Apple iPhone 13 Mini (128GB) - Midnight  ', 'price': '64,900'},\n",
       " {'name': 'OPPO A74 5G (Fantastic Purple,6GB RAM,128GB Storage) with No Cost EMI/Additional Exchange Offers  ',\n",
       "  'price': '15,990'},\n",
       " {'name': 'Redmi 9A Sport (Coral Green, 2GB RAM, 32GB Storage) | 2GHz Octa-core Helio G25 Processor | 5000 mAh Battery  ',\n",
       "  'price': '6,499'},\n",
       " {'name': 'Nokia C12 Android 12 (Go Edition) Smartphone, All-Day Battery, 4GB RAM (2GB RAM + 2GB Virtual RAM) + 64GB Capacity | Light Mint  ',\n",
       "  'price': '6,599'},\n",
       " {'name': 'Samsung Galaxy S20 FE 5G (Cloud Mint, 8GB RAM, 128GB Storage)  ',\n",
       "  'price': '34,999'},\n",
       " {'name': None, 'price': None},\n",
       " {'name': 'Redmi Note 12 5G Matte Black 6GB RAM 128GB ROM | 1st Phone with 120Hz Super AMOLED and Snapdragon® 4 Gen 1 | 48MP AI Triple Camera  ',\n",
       "  'price': '19,999'},\n",
       " {'name': 'Redmi Note 12 5G Mystique Blue 6GB RAM 128GB ROM | 1st Phone with 120Hz Super AMOLED and Snapdragon® 4 Gen 1 | 48MP AI Triple Camera  ',\n",
       "  'price': '19,999'},\n",
       " {'name': 'Redmi Note 11T 5G (Stardust White, 8GB RAM, 128GB ROM) | Dimensity 810 5G | 33W Pro Fast Charging | Charger Included | Additional Exchange Offers| Get 2 Months of YouTube Premium Free!  ',\n",
       "  'price': '18,499'},\n",
       " {'name': 'Nokia 2660 Flip 4G Volte keypad Phone with Dual SIM, Dual Screen, inbuilt MP3 Player & Wireless FM Radio | Black  ',\n",
       "  'price': None},\n",
       " {'name': 'Redmi 10A (Charcoal Black, 4GB RAM, 64GB Storage) | 2 Ghz Octa Core Helio G25 | 5000 mAh Battery | Finger Print Sensor | Upto 5GB RAM with RAM Booster  ',\n",
       "  'price': '8,999'},\n",
       " {'name': 'Apple iPhone 13 (128GB) - Midnight  ', 'price': '61,999'},\n",
       " {'name': 'Lava Blaze 5G (Glass Green, 6GB RAM, UFS 2.2 128GB Storage) | 5G Ready | 50MP AI Triple Camera | Upto 9GB Expandable RAM | Charger Included | Clean Android (No Bloatware)  ',\n",
       "  'price': '11,999'},\n",
       " {'name': 'realme narzo 50i Prime (Mint Green 3GB RAM+32GB Storage) Octa-core Processor | 5000 mAh Battery  ',\n",
       "  'price': '7,499'},\n",
       " {'name': 'OPPO A74 5G (Fantastic Purple,6GB RAM,128GB Storage) with No Cost EMI/Additional Exchange Offers  ',\n",
       "  'price': '15,990'},\n",
       " {'name': 'OPPO A74 5G (Fantastic Purple,6GB RAM,128GB Storage) with No Cost EMI/Additional Exchange Offers  ',\n",
       "  'price': '15,990'},\n",
       " {'name': 'Redmi 9A Sport (Coral Green, 2GB RAM, 32GB Storage) | 2GHz Octa-core Helio G25 Processor | 5000 mAh Battery  ',\n",
       "  'price': '6,499'},\n",
       " {'name': 'Motorola a10 Dual Sim keypad Mobile with 1750 mAh Battery, Expandable Storage Upto 32GB, Wireless FM with Recording - Rose Gold  ',\n",
       "  'price': '1,399'},\n",
       " {'name': 'realme narzo 50i Prime (Mint Green 3GB RAM+32GB Storage) Octa-core Processor | 5000 mAh Battery  ',\n",
       "  'price': '7,499'},\n",
       " {'name': 'Tukzer Universal Car Mount Mobile Holder Stand| Strong Suction Cup, Double Shift Locking for Dashboard Windshield| Quick Touch Release, Long Telescopic Arm, 360° Rotatable Head| for All Mobile Phones,Black  ',\n",
       "  'price': '499'},\n",
       " {'name': 'Amkette iGrip Telescopic One Touch Car Mount for Dashboard and Windshield | Universal Compatibility | Telescopic Adjustable Arm | Adjustable Bottom Foot | Re-usable Suction Gel | Pivots Upto 230 Degree | Durable Design | Drive Assist Companion App | (Black)  ',\n",
       "  'price': '999'},\n",
       " {'name': 'Spigen QS11 Quad Car Phone Holder Magnetic Air Vent Phone Holder | QNMP Compatible with Most Smartphones - Black  ',\n",
       "  'price': '809'},\n",
       " {'name': 'Mongoora Universal Air Vent Car Phone Mount Holder with One Click Release Button, Compatible with All Smartphone with 360° Rotation, Mobile Holder for Cars (Black)  ',\n",
       "  'price': '499'},\n",
       " {'name': None, 'price': None},\n",
       " {'name': 'Redmi A1 (Black, 2GB RAM, 32GB Storage) | Segment Best AI Dual Cam | 5000mAh Battery | Leather Texture Design | Android 12  ',\n",
       "  'price': '6,499'},\n",
       " {'name': 'Redmi A1 (Light Blue, 2GB RAM, 32GB Storage) | Segment Best AI Dual Cam | 5000mAh Battery | Leather Texture Design | Android 12  ',\n",
       "  'price': '6,499'},\n",
       " {'name': 'Samsung Galaxy M04 Light Green, 4GB RAM, 128GB Storage | Upto 8GB RAM with RAM Plus | MediaTek Helio P35 | 5000 mAh Battery  ',\n",
       "  'price': '10,249'},\n",
       " {'name': 'Redmi A1 (Light Green, 2GB RAM 32GB ROM) | Segment Best AI Dual Cam | 5000mAh Battery | Leather Texture Design | Android 12  ',\n",
       "  'price': '6,499'},\n",
       " {'name': 'Redmi 11 Prime 5G (Chrome Silver, 4GB RAM 64GB ROM) | Prime Design | MTK Dimensity 700 | 50 MP Dual Cam | 5000mAh | 7 Band 5G  ',\n",
       "  'price': '13,999'},\n",
       " {'name': 'Samsung Galaxy M33 5G (Deep Ocean Blue, 8GB, 128GB Storage) | 6000mAh Battery | Upto 16GB RAM with RAM Plus | Travel Adapter to be Purchased Separately  ',\n",
       "  'price': '19,499'},\n",
       " {'name': 'Samsung Galaxy M04 Dark Blue, 4GB RAM, 64GB Storage | Upto 8GB RAM with RAM Plus | MediaTek Helio P35 | 5000 mAh Battery  ',\n",
       "  'price': '9,249'},\n",
       " {'name': 'Redmi Note 12 5G Matte Black 4GB RAM 128GB ROM | 1st Phone with 120Hz Super AMOLED and Snapdragon® 4 Gen 1 | 48MP AI Triple Camera  ',\n",
       "  'price': '17,999'},\n",
       " {'name': 'IKALL Z16 4G Smartphone with 6.53 inch HD+ Display (4GB RAM, 64GB Storage) (Sky Blue)  ',\n",
       "  'price': '6,799'},\n",
       " {'name': None, 'price': None},\n",
       " {'name': None, 'price': None},\n",
       " {'name': None, 'price': None},\n",
       " {'name': None, 'price': None}]"
      ]
     },
     "execution_count": 11,
     "metadata": {},
     "output_type": "execute_result"
    }
   ],
   "source": [
    "target = Tag(cls = 'sg-col-20-of-24 s-matching-dir sg-col-16-of-20 sg-col sg-col-8-of-12 sg-col-12-of-16')\n",
    "items = Tag(cls = \"s-result-item\")\n",
    "title = Tag('h2')\n",
    "price = Tag('span', cls = \"a-price-whole\")\n",
    "rating = Tag()\n",
    "webpage.get_all(target, items, name= title, price = price)"
   ]
  },
  {
   "cell_type": "code",
   "execution_count": null,
   "metadata": {},
   "outputs": [],
   "source": []
  }
 ],
 "metadata": {
  "kernelspec": {
   "display_name": "base",
   "language": "python",
   "name": "python3"
  },
  "language_info": {
   "codemirror_mode": {
    "name": "ipython",
    "version": 3
   },
   "file_extension": ".py",
   "mimetype": "text/x-python",
   "name": "python",
   "nbconvert_exporter": "python",
   "pygments_lexer": "ipython3",
   "version": "3.9.13"
  },
  "orig_nbformat": 4,
  "vscode": {
   "interpreter": {
    "hash": "f08154012ddadd8e950e6e9e035c7a7b32c136e7647e9b7c77e02eb723a8bedb"
   }
  }
 },
 "nbformat": 4,
 "nbformat_minor": 2
}

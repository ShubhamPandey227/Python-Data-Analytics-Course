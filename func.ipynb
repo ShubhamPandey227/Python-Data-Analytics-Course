{
 "cells": [
  {
   "attachments": {},
   "cell_type": "markdown",
   "metadata": {},
   "source": [
    "syntax for defining a function\n",
    "``` \n",
    "def fun_name(<params...>) :\n",
    "    statement 1\n",
    "    statement 2\n",
    "    ...\n",
    "    statement n\n",
    "    <return values....>\n",
    "\n",
    "calling a function\n",
    "fun_name (<params...>)\n",
    "```"
   ]
  },
  {
   "cell_type": "code",
   "execution_count": 3,
   "metadata": {},
   "outputs": [
    {
     "name": "stdout",
     "output_type": "stream",
     "text": [
      "welcome to the function\n",
      "hope u r happy\n",
      "have a nice day\n"
     ]
    }
   ],
   "source": [
    "def greetings() :\n",
    "    print('welcome to the function')\n",
    "    print('hope u r happy')\n",
    "    print('have a nice day')\n",
    "greetings()"
   ]
  },
  {
   "cell_type": "code",
   "execution_count": 4,
   "metadata": {},
   "outputs": [
    {
     "name": "stdout",
     "output_type": "stream",
     "text": [
      "welcome to the function\n",
      "hope u r happy\n",
      "have a nice day\n",
      "None\n"
     ]
    }
   ],
   "source": [
    "ans = greetings()\n",
    "print(ans)"
   ]
  },
  {
   "cell_type": "code",
   "execution_count": 32,
   "metadata": {},
   "outputs": [],
   "source": [
    "def random3() :\n",
    "    from random import choices\n",
    "    value =list('🦁🦁🦁🦁🍺🍺👑👑👑🍗🍗🙉🦌🦌🦌🙉🙉🦌🦌👀🦄🦄👀🦄🦄🦄🦄🦝🦝🦁🦁')\n",
    "    return \" \".join(choices(value, k =3)) "
   ]
  },
  {
   "cell_type": "code",
   "execution_count": 36,
   "metadata": {},
   "outputs": [
    {
     "data": {
      "text/plain": [
       "'🦄 🦄 🦄'"
      ]
     },
     "execution_count": 36,
     "metadata": {},
     "output_type": "execute_result"
    }
   ],
   "source": [
    "random3()\n"
   ]
  },
  {
   "cell_type": "code",
   "execution_count": null,
   "metadata": {},
   "outputs": [],
   "source": [
    "for i in range(10) :\n",
    "    print(random3())"
   ]
  },
  {
   "cell_type": "code",
   "execution_count": 37,
   "metadata": {},
   "outputs": [
    {
     "data": {
      "text/plain": [
       "'k k k q j a m k k j'"
      ]
     },
     "execution_count": 37,
     "metadata": {},
     "output_type": "execute_result"
    }
   ],
   "source": [
    "def random10() :\n",
    "    from random import choices\n",
    "    value = list('ashdjaskdaiklqeakjsdlajlksdlkqeoajldjasdmadamnmbvmxck')\n",
    "    return \" \".join(choices(value, k = 10))\n",
    "random10()"
   ]
  },
  {
   "cell_type": "code",
   "execution_count": 38,
   "metadata": {},
   "outputs": [
    {
     "name": "stdout",
     "output_type": "stream",
     "text": [
      "d v s a a d a a a a\n",
      "l l d a d l v d d m\n",
      "m v j a m b a a d j\n",
      "d e o m d s j d s v\n",
      "a s a b e h d m k a\n",
      "j j d j q j k m l s\n",
      "d s k l s o v v a d\n",
      "s e e k l k s k s d\n",
      "b c v b a a d j m k\n",
      "b a l a e m d s j j\n"
     ]
    }
   ],
   "source": [
    "for i in range (10) :\n",
    "    print(random10())"
   ]
  },
  {
   "cell_type": "code",
   "execution_count": null,
   "metadata": {},
   "outputs": [],
   "source": []
  }
 ],
 "metadata": {
  "kernelspec": {
   "display_name": "Python 3",
   "language": "python",
   "name": "python3"
  },
  "language_info": {
   "codemirror_mode": {
    "name": "ipython",
    "version": 3
   },
   "file_extension": ".py",
   "mimetype": "text/x-python",
   "name": "python",
   "nbconvert_exporter": "python",
   "pygments_lexer": "ipython3",
   "version": "3.11.1"
  },
  "orig_nbformat": 4,
  "vscode": {
   "interpreter": {
    "hash": "ebfc0a8d552866b0d59eba665220a57de3bc06f3ac643b8bef38dd8f66781fdd"
   }
  }
 },
 "nbformat": 4,
 "nbformat_minor": 2
}
